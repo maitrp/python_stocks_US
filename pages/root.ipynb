{
 "cells": [
  {
   "cell_type": "code",
   "execution_count": 1,
   "metadata": {},
   "outputs": [],
   "source": [
    "from taipy.gui import Gui\n",
    "import taipy.gui.builder as tgb"
   ]
  },
  {
   "cell_type": "code",
   "execution_count": 2,
   "metadata": {},
   "outputs": [
    {
     "name": "stderr",
     "output_type": "stream",
     "text": [
      "[*********************100%***********************]  1 of 1 completed\n",
      "[*********************100%***********************]  1 of 1 completed\n",
      "[*********************100%***********************]  1 of 1 completed\n",
      "[*********************100%***********************]  1 of 1 completed\n",
      "[*********************100%***********************]  1 of 1 completed\n",
      "[*********************100%***********************]  1 of 1 completed\n"
     ]
    }
   ],
   "source": [
    "%run SP500_stock_dashboard.ipynb import stock_page\n",
    "%run SP500_stocks_dashboard.ipynb import stocks_page"
   ]
  },
  {
   "cell_type": "code",
   "execution_count": 3,
   "metadata": {},
   "outputs": [],
   "source": [
    "with tgb.Page() as root_page:\n",
    "    with tgb.part(\"container\"):\n",
    "        with tgb.layout(\"30rem 1\", class_name=\"card p0 pt-half\"):\n",
    "            tgb.text(\"S&P 500 stocks visualization\", class_name=\"text-weight900 pl1\")\n",
    "            with tgb.part(\"text-center\"):\n",
    "                tgb.navbar()\n",
    "    tgb.html(\"br\")"
   ]
  },
  {
   "cell_type": "code",
   "execution_count": 4,
   "metadata": {},
   "outputs": [],
   "source": [
    "pages = {\"/\": root_page, \"stock\": stock_page, \"stocks\": stocks_page}"
   ]
  },
  {
   "cell_type": "code",
   "execution_count": 5,
   "metadata": {},
   "outputs": [
    {
     "name": "stdout",
     "output_type": "stream",
     "text": [
      "[2025-02-08 20:07:39.284][Taipy][INFO] Running in 'single_client' mode in notebook environment\n",
      "[2025-02-08 20:07:43.893][Taipy][INFO]  * Server starting on http://127.0.0.1:5000\n"
     ]
    },
    {
     "name": "stderr",
     "output_type": "stream",
     "text": [
      "c:\\Users\\maitp\\anaconda3\\envs\\general\\Lib\\site-packages\\gevent\\hub.py:161: UserWarning:\n",
      "\n",
      "libuv only supports millisecond timer resolution; all times less will be set to 1 ms\n",
      "\n"
     ]
    }
   ],
   "source": [
    "gui = Gui(pages=pages)\n",
    "gui.run(dev_mode=True, watermark=\"\", title=\"S&P 500 stocks visualization\")"
   ]
  }
 ],
 "metadata": {
  "kernelspec": {
   "display_name": "general",
   "language": "python",
   "name": "python3"
  },
  "language_info": {
   "codemirror_mode": {
    "name": "ipython",
    "version": 3
   },
   "file_extension": ".py",
   "mimetype": "text/x-python",
   "name": "python",
   "nbconvert_exporter": "python",
   "pygments_lexer": "ipython3",
   "version": "3.12.8"
  }
 },
 "nbformat": 4,
 "nbformat_minor": 2
}
