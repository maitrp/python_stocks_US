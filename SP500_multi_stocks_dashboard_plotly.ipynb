{
 "cells": [
  {
   "cell_type": "markdown",
   "metadata": {},
   "source": [
    "Re-run cell with animated chart multiple times in Jupyter Notebook <br>\n",
    "[Ref](https://stackoverflow.com/questions/35532498/animation-in-ipython-notebook)<br>\n",
    "[Ref](https://discourse.jupyter.org/t/matplotlib-animation-not-appearing-in-jupyter-notebook/24938/5)\n"
   ]
  },
  {
   "cell_type": "code",
   "execution_count": 1,
   "metadata": {},
   "outputs": [],
   "source": [
    "import pandas as pd\n",
    "import yfinance as yf\n",
    "import bar_chart_race as bcr\n",
    "\n",
    "# Re-run cell with animated chart multiple times in Jupyter Notebook\n",
    "# plt.rcParams[\"animation.html\"] = \"jshtml\"\n",
    "# plt.ioff()"
   ]
  },
  {
   "cell_type": "code",
   "execution_count": 2,
   "metadata": {},
   "outputs": [],
   "source": [
    "# Get S&P 500 companies with theirs tickers: less stable but faster method\n",
    "wiki_url = \"https://en.wikipedia.org/wiki/List_of_S&P_500_companies\"\n",
    "# identify the table in the HTML by its unique id\n",
    "sp500 = pd.read_html(wiki_url, attrs={\"id\": \"constituents\"})[0]\n",
    "sp500.sort_values(\"Symbol\", inplace=True)"
   ]
  },
  {
   "cell_type": "code",
   "execution_count": 3,
   "metadata": {},
   "outputs": [],
   "source": [
    "stock_price_df = pd.read_csv(\n",
    "    \"stock_price_2024.csv\", parse_dates=[\"Date\"], index_col=\"Date\"\n",
    ")\n",
    "stock_price_df.index = stock_price_df.index.strftime(\"%d/%m/%Y\")"
   ]
  },
  {
   "cell_type": "code",
   "execution_count": 4,
   "metadata": {},
   "outputs": [
    {
     "name": "stderr",
     "output_type": "stream",
     "text": [
      "c:\\Users\\maitp\\anaconda3\\envs\\general\\Lib\\site-packages\\bar_chart_race\\_utils.py:111: FutureWarning: Series.fillna with 'method' is deprecated and will raise in a future version. Use obj.ffill() or obj.bfill() instead.\n",
      "  df_values.iloc[:, 0] = df_values.iloc[:, 0].fillna(method='ffill')\n"
     ]
    }
   ],
   "source": [
    "animation = bcr.bar_chart_race_plotly(\n",
    "    stock_price_df,\n",
    "    n_bars=10,\n",
    "    period_length=1500,\n",
    "    steps_per_period=20,\n",
    "    filter_column_colors=True,\n",
    ")"
   ]
  },
  {
   "cell_type": "code",
   "execution_count": 5,
   "metadata": {},
   "outputs": [
    {
     "data": {
      "text/plain": [
       "plotly.graph_objs._figure.Figure"
      ]
     },
     "execution_count": 5,
     "metadata": {},
     "output_type": "execute_result"
    }
   ],
   "source": [
    "type(animation)"
   ]
  },
  {
   "cell_type": "code",
   "execution_count": 6,
   "metadata": {},
   "outputs": [],
   "source": [
    "animation_html = animation.to_html(include_plotlyjs=True, full_html=False)"
   ]
  }
 ],
 "metadata": {
  "kernelspec": {
   "display_name": "general",
   "language": "python",
   "name": "python3"
  },
  "language_info": {
   "codemirror_mode": {
    "name": "ipython",
    "version": 3
   },
   "file_extension": ".py",
   "mimetype": "text/x-python",
   "name": "python",
   "nbconvert_exporter": "python",
   "pygments_lexer": "ipython3",
   "version": "3.12.8"
  }
 },
 "nbformat": 4,
 "nbformat_minor": 2
}
